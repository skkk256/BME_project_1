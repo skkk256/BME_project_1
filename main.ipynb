{
 "cells": [
  {
   "cell_type": "code",
   "execution_count": 1,
   "metadata": {},
   "outputs": [],
   "source": [
    "import math\n",
    "\n",
    "import random\n",
    "import numpy as np\n",
    "import torch\n",
    "from torch import nn\n",
    "from torch.autograd import Variable, grad\n",
    "import torchvision.utils\n",
    "from matplotlib import pyplot as plt\n",
    "from matplotlib.colors import Normalize\n",
    "from mpl_toolkits.axes_grid1 import make_axes_locatable\n",
    "from skimage.color import rgb2gray\n",
    "from skimage.metrics import structural_similarity\n",
    "\n",
    "from modules.dataset import LoadMRI, DatasetReconMRI\n",
    "from modules.dataset import build_loaders\n",
    "from modules.utils import kspace2image, image2kspace, complex2pseudo, pseudo2real, pseudo2complex, imsshow\n",
    "from modules.solver import Solver\n",
    "import modules.kspace_pytorch as cl"
   ]
  },
  {
   "cell_type": "code",
   "execution_count": 2,
   "metadata": {},
   "outputs": [],
   "source": [
    "%load_ext autoreload\n",
    "%autoreload 2"
   ]
  },
  {
   "cell_type": "markdown",
   "metadata": {},
   "source": [
    "# Preprocess"
   ]
  },
  {
   "cell_type": "code",
   "execution_count": 3,
   "metadata": {},
   "outputs": [],
   "source": [
    "dataset = LoadMRI('./cine.npz')\n",
    "CINE_INDEX = random.randint(0, 199)"
   ]
  },
  {
   "cell_type": "code",
   "execution_count": 4,
   "metadata": {},
   "outputs": [],
   "source": [
    "data_test = DatasetReconMRI(dataset, acc=6, num_center_lines=20)"
   ]
  },
  {
   "cell_type": "code",
   "execution_count": null,
   "metadata": {},
   "outputs": [],
   "source": [
    "img_und, und_mask, img_gt = data_test[CINE_INDEX]\n",
    "print(f\"img_und: {img_und.shape}, und_mask: {und_mask.shape}, img_gt: {img_gt.shape}\")\n",
    "print(f\"img_und: {img_und.dtype}, und_mask: {und_mask.dtype}, img_gt: {img_gt.dtype}\")\n",
    "\n",
    "img_und = np.abs(pseudo2real(img_und))\n",
    "img_gt = np.abs(pseudo2real(img_gt))\n",
    "# Try different index range in [0, 1000) to see different images in dataset.\n",
    "imsshow(img_und, num_col=5, cmap='gray', is_colorbar=True)\n",
    "imsshow(und_mask, num_col=5, cmap='gray', is_colorbar=True)\n",
    "imsshow(img_gt, num_col=10, cmap='gray', is_colorbar=True)"
   ]
  },
  {
   "cell_type": "code",
   "execution_count": null,
   "metadata": {},
   "outputs": [],
   "source": [
    "TRAIN_INDICES = np.arange(0, 112)\n",
    "VAL_INDICES = np.arange(112, 140)\n",
    "TEST_INDICES = np.arange(140, 200)\n",
    "\n",
    "train_loader, val_loader, test_loader = build_loaders(\n",
    "    dataset, TRAIN_INDICES, VAL_INDICES, TEST_INDICES,\n",
    "    acc = 8,\n",
    "    num_center_lines=12,\n",
    "    batch_size=10  # Reduce this number if your computer does not has large gpu vram\n",
    ")\n",
    "print(f\"Number of batches for train/val/test: {len(train_loader)}/{len(val_loader)}/{len(test_loader)}\")"
   ]
  },
  {
   "cell_type": "markdown",
   "metadata": {},
   "source": [
    "# Network"
   ]
  },
  {
   "cell_type": "markdown",
   "metadata": {},
   "source": [
    "## Network Framework"
   ]
  },
  {
   "cell_type": "code",
   "execution_count": 7,
   "metadata": {},
   "outputs": [],
   "source": [
    "class MRIReconstructionFramework(nn.Module):\n",
    "    def __init__(self, recon_net: nn.Module):\n",
    "        super().__init__()\n",
    "        self.recon_net = recon_net\n",
    "\n",
    "    def forward(self, x_und, mask):\n",
    "        B, C, T, H, W = x_und.shape\n",
    "        im_recon = self.recon_net(x_und)\n",
    "        return im_recon"
   ]
  },
  {
   "cell_type": "markdown",
   "metadata": {},
   "source": [
    "## Cascading"
   ]
  },
  {
   "cell_type": "code",
   "execution_count": 6,
   "metadata": {},
   "outputs": [],
   "source": [
    "class MRIReconstructionFramework(nn.Module):\n",
    "    def __init__(self, recon_net: nn.Module):\n",
    "        super().__init__()\n",
    "        self.recon_net = recon_net\n",
    "\n",
    "    def forward(self, x_und, mask):\n",
    "        B, C, T, H, W = x_und.shape\n",
    "        x_k = image2kspace(pseudo2complex(x_und))\n",
    "#         x_k = x_k * mask\n",
    "#         x_dc = kspace2image(x_k)\n",
    "        x_dc = complex2pseudo(x_k)\n",
    "        \n",
    "        im_recon = self.recon_net(x_und, x_dc)\n",
    "        return im_recon"
   ]
  },
  {
   "cell_type": "code",
   "execution_count": 39,
   "metadata": {},
   "outputs": [],
   "source": [
    "class DC(nn.Module):\n",
    "    def __init__(self):\n",
    "        super(DC, self).__init__()\n",
    "        self.lambda_num = nn.Parameter(torch.ones(4, 20, 192, 192))\n",
    "#         self.lambda_num = 100\n",
    "        \n",
    "    def forward(self, x, dc_k):\n",
    "        dc_k = pseudo2complex(dc_k)\n",
    "        x = image2kspace(x)\n",
    "        x = pseudo2complex(x)\n",
    "        output = (self.lambda_num * dc_k + x) / (self.lambda_num + 1)\n",
    "        output = kspace2image(output)\n",
    "#         output = x\n",
    "        output = complex2pseudo(output)\n",
    "        \n",
    "#         test = pseudo2real(output.detach().cpu().numpy())\n",
    "#         img_und = np.abs(test[0])\n",
    "#         imsshow(img_und, num_col=1, cmap='gray', is_colorbar=True)\n",
    "        return output\n",
    "\n",
    "class MultiLayerCNN(nn.Module):\n",
    "    def __init__(self, n_hidden=64):\n",
    "        super().__init__()\n",
    "        self.conv1 = nn.Conv3d(2, n_hidden, kernel_size=3, padding=1)\n",
    "        self.conv2 = nn.Conv3d(n_hidden, n_hidden, kernel_size=3, padding=1)\n",
    "        self.conv3 = nn.Conv3d(n_hidden, n_hidden, kernel_size=3, padding=1)\n",
    "        self.conv4 = nn.Conv3d(n_hidden, n_hidden, kernel_size=3, padding=1)\n",
    "        self.conv5 = nn.Conv3d(n_hidden, 2, kernel_size=3, padding=1)\n",
    "\n",
    "        self.relu = nn.ReLU()\n",
    "        self.drop = nn.Dropout3d(p=0.1)\n",
    "\n",
    "    def forward(self, im_und):\n",
    "        \"\"\"\n",
    "        - im_und: tensor[B, C=2, H, W]\n",
    "        \"\"\"\n",
    "        x = self.relu(self.drop(self.conv1(im_und)))\n",
    "        x = self.relu(self.drop(self.conv2(x)))\n",
    "        x = self.relu(self.drop(self.conv3(x)))\n",
    "        x = self.relu(self.drop(self.conv4(x)))\n",
    "        diff = self.conv5(x)\n",
    "        return diff\n",
    "\n",
    "\n",
    "class ReconstructionNet(nn.Module):\n",
    "    def __init__(self):\n",
    "        super(ReconstructionNet, self).__init__()\n",
    "        \n",
    "        # Define the 3D CNN network\n",
    "        self.cnn = MultiLayerCNN()\n",
    "        self.dc = DC()\n",
    "        # Define the output layer\n",
    "        \n",
    "    def forward(self, x, x_dc):\n",
    "        # Pass the input through the 3D CNN network\n",
    "        x1 = self.cnn(x)\n",
    "#         x = self.dc(x, x_dc)\n",
    "        x2 = self.dc(x1, x_dc)\n",
    "        x3 = self.cnn(x2)\n",
    "        x2 = self.dc(x3, x_dc)\n",
    "        x3 = self.cnn(x2)\n",
    "        x = x3 + x\n",
    "        # Pass the output of the 3D CNN network through the output layer\n",
    "        \n",
    "        return x\n",
    "\n"
   ]
  },
  {
   "cell_type": "markdown",
   "metadata": {},
   "source": [
    "## Unet"
   ]
  },
  {
   "cell_type": "code",
   "execution_count": 78,
   "metadata": {},
   "outputs": [],
   "source": [
    "class DoubleConv(nn.Module):\n",
    "    def __init__(self, in_channels, out_channels):\n",
    "        super().__init__()\n",
    "        self.conv = nn.Sequential(\n",
    "            nn.Conv3d(in_channels, out_channels, kernel_size=3, padding=1),\n",
    "            nn.Dropout3d(p=0.1),\n",
    "            nn.ReLU(inplace=True),\n",
    "            nn.Conv3d(out_channels, out_channels, kernel_size=3, padding=1),\n",
    "            nn.Dropout3d(p=0.1),\n",
    "            nn.ReLU(inplace=True)\n",
    "        )\n",
    "\n",
    "    def forward(self, x):\n",
    "        return self.conv(x)\n",
    "\n",
    "class Down(nn.Module):\n",
    "    def __init__(self, in_channels, out_channels):\n",
    "        super().__init__()\n",
    "        self.mpconv = nn.Sequential(\n",
    "            nn.MaxPool3d(2),\n",
    "            DoubleConv(in_channels, out_channels)\n",
    "        )\n",
    "\n",
    "    def forward(self, x):\n",
    "        return self.mpconv(x)\n",
    "\n",
    "class Up(nn.Module):\n",
    "    def __init__(self, in_channels, out_channels):\n",
    "        super().__init__()\n",
    "        self.up = nn.ConvTranspose3d(in_channels, in_channels // 2, kernel_size=2, stride=2)\n",
    "        self.conv = DoubleConv(in_channels, out_channels)\n",
    "\n",
    "    def forward(self, x1, x2):\n",
    "        x1 = self.up(x1)\n",
    "        diffZ = x2.size()[2] - x1.size()[2]\n",
    "        diffY = x2.size()[3] - x1.size()[3]\n",
    "        diffX = x2.size()[4] - x1.size()[4]\n",
    "        x1 = nn.functional.pad(x1, (diffX // 2, diffX - diffX // 2,\n",
    "                                    diffY // 2, diffY - diffY // 2,\n",
    "                                    diffZ // 2, diffZ - diffZ // 2,))\n",
    "        x = torch.cat([x2, x1], dim=1)\n",
    "        return self.conv(x)\n",
    "\n",
    "class UNet3D(nn.Module):\n",
    "    def __init__(self, in_channels, out_channels, bilinear=True):\n",
    "        super().__init__()\n",
    "        self.in_channels = in_channels\n",
    "        self.out_channels = out_channels\n",
    "        self.bilinear = bilinear\n",
    "\n",
    "        self.conv1 = DoubleConv(in_channels, 64)\n",
    "        self.down1 = Down(64, 128)\n",
    "        self.down2 = Down(128, 256)\n",
    "        self.down3 = Down(256, 512)\n",
    "        self.down4 = Down(512, 1024)\n",
    "        self.up1 = Up(1024, 512)\n",
    "        self.up2 = Up(512, 256)\n",
    "        self.up3 = Up(256, 128)\n",
    "        self.up4 = Up(128, 64)\n",
    "        self.conv_out = nn.Conv3d(64, out_channels, kernel_size=1)\n",
    "\n",
    "    def forward(self, x):\n",
    "        x1 = self.conv1(x)\n",
    "        x2 = self.down1(x1)\n",
    "        x3 = self.down2(x2)\n",
    "        x4 = self.down3(x3)\n",
    "        x5 = self.down4(x4)\n",
    "        x = self.up1(x5, x4)\n",
    "        x = self.up2(x, x3)\n",
    "        x = self.up3(x, x2)\n",
    "        x = self.up4(x, x1)\n",
    "        logits = self.conv_out(x)\n",
    "        return logits\n"
   ]
  },
  {
   "cell_type": "markdown",
   "metadata": {},
   "source": [
    "## MultiCNN with Dropout"
   ]
  },
  {
   "cell_type": "code",
   "execution_count": 8,
   "metadata": {},
   "outputs": [
    {
     "name": "stdout",
     "output_type": "stream",
     "text": [
      "torch.Size([5, 2, 20, 192, 192])\n"
     ]
    }
   ],
   "source": [
    "# Network definition\n",
    "class MultiLayerCNN(nn.Module):\n",
    "    def __init__(self, n_hidden=64):\n",
    "        super().__init__()\n",
    "        self.conv1 = nn.Conv3d(2, n_hidden, kernel_size=3, padding=1)\n",
    "        self.conv2 = nn.Conv3d(n_hidden, n_hidden, kernel_size=3, padding=1)\n",
    "        self.conv3 = nn.Conv3d(n_hidden, n_hidden, kernel_size=3, padding=1)\n",
    "        self.conv4 = nn.Conv3d(n_hidden, n_hidden, kernel_size=3, padding=1)\n",
    "        self.conv5 = nn.Conv3d(n_hidden, 2, kernel_size=3, padding=1)\n",
    "\n",
    "        self.relu = nn.ReLU()\n",
    "        self.drop = nn.Dropout3d(p=0.1)\n",
    "\n",
    "    def forward(self, im_und):\n",
    "        \"\"\"\n",
    "        - im_und: tensor[B, C=2, H, W]\n",
    "        \"\"\"\n",
    "        x = self.relu(self.drop(self.conv1(im_und)))\n",
    "        x = self.relu(self.drop(self.conv2(x)))\n",
    "        x = self.relu(self.drop(self.conv3(x)))\n",
    "        x = self.relu(self.drop(self.conv4(x)))\n",
    "        diff = self.conv5(x)\n",
    "        im_recon = diff + im_und\n",
    "        return im_recon\n",
    "\n",
    "\n",
    "# test a forward\n",
    "im_mock = torch.randn(5, 2, 20, 192, 192)\n",
    "net = MultiLayerCNN()\n",
    "out = net(im_mock)\n",
    "print(out.shape)"
   ]
  },
  {
   "cell_type": "markdown",
   "metadata": {},
   "source": [
    "## Train"
   ]
  },
  {
   "cell_type": "code",
   "execution_count": 9,
   "metadata": {},
   "outputs": [
    {
     "name": "stdout",
     "output_type": "stream",
     "text": [
      "tensor(4.2932)\n"
     ]
    }
   ],
   "source": [
    "from modules.utils import compute_psnr, compute_ssim\n",
    "class MSELoss():\n",
    "    def __call__(self, im_recon, im_gt):\n",
    "        \"\"\"\n",
    "        - im_recon: tensor[B, C=2, T, H, W]\n",
    "        - im_gt: tensor[B, C=2, T, H, W]\n",
    "        \"\"\"\n",
    "        B, C, T, H, W = im_recon.shape\n",
    "        x = pseudo2real(im_recon)  # [B, T, H, W]\n",
    "        y = pseudo2real(im_gt)     # [B, T, H, W]\n",
    "        loss = torch.mean((y - x) ** 2) * B\n",
    "        return loss\n",
    "\n",
    "# class SSIM_Loss():\n",
    "#     def __call__(self, im_recon, im_gt):\n",
    "#         im_recon = pseudo2real(im_recon)\n",
    "#         im_gt = pseudo2real(im_gt)\n",
    "#         psnr_val = [(1- compute_ssim(im_recon[i], im_gt[i], is_minmax=True)) for i in range(2)]\n",
    "#         psnr_val = torch.tensor(psnr_val)\n",
    "#         return torch.mean(psnr_val)\n",
    "        \n",
    "    \n",
    "    \n",
    "# test for loss computation\n",
    "mse = MSELoss()\n",
    "x_mock = torch.randn(5, 2, 20, 192, 192)\n",
    "y_mock = torch.randn(5, 2, 20, 192, 192)\n",
    "print(mse(x_mock, y_mock))"
   ]
  },
  {
   "cell_type": "code",
   "execution_count": null,
   "metadata": {
    "scrolled": true
   },
   "outputs": [],
   "source": [
    "# Define network\n",
    "net = MRIReconstructionFramework(\n",
    "    recon_net=MultiLayerCNN()\n",
    ")\n",
    "# net = MRIReconstructionFramework(ReconstructionNet())\n",
    "# net = MRIReconstructionFramework(UNet3D(2,2))\n",
    "# checkpoints =torch.load(\"03-26_12-50-44-cas_without2-checkpoint-epoch50.pth\")\n",
    "device = torch.device(\"cuda:0\" if torch.cuda.is_available() else \"cpu\")\n",
    "# net = MRIReconstructionFramework(ReconstructionNet())\n",
    "# net.load_state_dict(checkpoints)\n",
    "# net = net.to(device)\n",
    "# optimizer=torch.optim.Adam(\n",
    "#         net.parameters(),\n",
    "#         lr=0.0001,\n",
    "#     )\n",
    "optimizer=torch.optim.Adam(\n",
    "        net.parameters(),\n",
    "        lr=0.001,\n",
    "    )\n",
    "# Training & Validation\n",
    "solver = Solver(\n",
    "    model=net,\n",
    "    optimizer=optimizer,\n",
    "    criterion=MSELoss(),\n",
    "    # scheduler = torch.optim.lr_scheduler.StepLR(optimizer, step_size  = 400, gamma = 0.8)\n",
    "    # scheduler = torch.optim.lr_scheduler.LambdaLR(optimizer, lr_lambda= lambda epoch: 1/(epoch+1))\n",
    "    # scheduler = torch.optim.lr_scheduler.ExponentialLR(optimizer, 0.8, last_epoch=-1)\n",
    "    # scheduler = torch.optim.lr_scheduler.StepLR(optimizer, 2, gamma=0.1, last_epoch=-1)\n",
    ")\n",
    "\n",
    "epochs_to_train = 20\n",
    "solver.train(epochs_to_train, train_loader, val_loader=val_loader)\n",
    "solver.validate(test_loader)"
   ]
  },
  {
   "cell_type": "code",
   "execution_count": null,
   "metadata": {},
   "outputs": [],
   "source": [
    "# changing data_index to see diffferent sample's visualization\n",
    "data_index = 5 # range in [0, 60)\n",
    "time_index = 13\n",
    "solver.visualize(test_loader, idx=data_index,time_index=time_index, dpi=100)"
   ]
  },
  {
   "cell_type": "markdown",
   "metadata": {},
   "source": [
    "## Output"
   ]
  },
  {
   "cell_type": "code",
   "execution_count": 23,
   "metadata": {},
   "outputs": [],
   "source": [
    "import time\n",
    "timestamp = time.strftime(\"%m-%d_%H-%M-%S\", time.localtime())"
   ]
  },
  {
   "cell_type": "code",
   "execution_count": 41,
   "metadata": {},
   "outputs": [],
   "source": [
    "torch.save(net.state_dict(), f'{timestamp}-cas_without2-checkpoint-epoch{epochs_to_train}.pth')"
   ]
  },
  {
   "cell_type": "code",
   "execution_count": 156,
   "metadata": {},
   "outputs": [],
   "source": [
    "import itertools\n",
    "batch_num = 5\n",
    "batch = next(itertools.islice(test_loader, batch_num, None))\n",
    "x_und, und_mask, image_gt = batch\n",
    "device = torch.device(\"cuda:0\" if torch.cuda.is_available() else \"cpu\")\n",
    "x_und = x_und.to(device)\n",
    "und_mask = und_mask.to(device)\n",
    "net.eval()\n",
    "im_recon = net(x_und, und_mask)\n",
    "# for batch in test_loader:\n",
    "#     # convert the batch to a numpy array\n",
    "#     # do something with the numpy array\n",
    "#     print(batch[0].shape)\n",
    "#     net(batch[0], batch[0])"
   ]
  },
  {
   "cell_type": "code",
   "execution_count": 157,
   "metadata": {},
   "outputs": [],
   "source": [
    "im_recon = pseudo2real(im_recon).detach().cpu().numpy()\n",
    "image_gt = pseudo2real(image_gt).detach().cpu().numpy()"
   ]
  },
  {
   "cell_type": "code",
   "execution_count": null,
   "metadata": {},
   "outputs": [],
   "source": [
    "idx = 1\n",
    "imsshow(im_recon[idx], num_col=5, cmap='gray', is_colorbar=True)\n",
    "import imageio\n",
    "\n",
    "# Create a numpy array with a sequence of images\n",
    "\n",
    "# Write the numpy array to a GIF file using imageio\n",
    "output = (im_recon[idx] * 255).astype('uint8')\n",
    "imageio.mimsave(f'animation_{batch_num}_{idx}.gif', output, fps=10)"
   ]
  },
  {
   "cell_type": "code",
   "execution_count": null,
   "metadata": {},
   "outputs": [],
   "source": [
    "from modules.utils import compute_psnr, compute_ssim\n",
    "print(im_recon.shape)\n",
    "print(f\"psnr is {compute_psnr(im_recon[0][0], image_gt[0][0], is_minmax=True):.2f}\")\n",
    "print(f\"psnr is {compute_ssim(im_recon[0][0], image_gt[0][0], is_minmax=True):.2f}\")"
   ]
  },
  {
   "cell_type": "markdown",
   "metadata": {},
   "source": [
    "## GIF"
   ]
  },
  {
   "cell_type": "code",
   "execution_count": null,
   "metadata": {},
   "outputs": [],
   "source": [
    "checkpoints =torch.load(\"03-26_12-50-44-cas_without-checkpoint-epoch50.pth\")\n",
    "device = torch.device(\"cuda:0\" if torch.cuda.is_available() else \"cpu\")\n",
    "net = MRIReconstructionFramework(ReconstructionNet())\n",
    "net.load_state_dict(checkpoints)\n",
    "net = net.to(device)\n",
    "net.eval()"
   ]
  },
  {
   "cell_type": "code",
   "execution_count": null,
   "metadata": {},
   "outputs": [],
   "source": [
    "import time\n",
    "import imageio\n",
    "import itertools\n",
    "from modules.utils import compute_psnr, compute_ssim\n",
    "\n",
    "\n",
    "net = net.to(device)\n",
    "# net.eval()\n",
    "PSNR = []\n",
    "SSIM = []\n",
    "for batch_num in range(15):\n",
    "    print(batch_num, end=' ')\n",
    "    batch = next(itertools.islice(test_loader, batch_num, None))\n",
    "    x_und, und_mask, image_gt = batch\n",
    "    device = torch.device(\"cuda:0\" if torch.cuda.is_available() else \"cpu\")\n",
    "    x_und = x_und.to(device)\n",
    "    und_mask = und_mask.to(device)\n",
    "    im_recon = net(x_und, und_mask)\n",
    "    x_und    = pseudo2real(x_und).detach().cpu().numpy()\n",
    "    im_recon = pseudo2real(im_recon).detach().cpu().numpy()\n",
    "    image_gt = pseudo2real(image_gt).detach().cpu().numpy()\n",
    "    for idx in range(2):\n",
    "        for time in range(20):\n",
    "            psnr_val = compute_psnr(im_recon[idx][time], image_gt[idx][time], is_minmax=True)\n",
    "            ssim_val = compute_ssim(im_recon[idx][time], image_gt[idx][time], is_minmax=True)\n",
    "            PSNR.append(psnr_val)\n",
    "            SSIM.append(ssim_val)\n",
    "#         output = (x_und[idx] * 255).astype('uint8')\n",
    "#         imageio.mimsave(f'./gif_und/animation_{batch_num}_{idx}_{PSNR[-1]:.2f}.gif', output, fps=10)"
   ]
  },
  {
   "cell_type": "code",
   "execution_count": null,
   "metadata": {},
   "outputs": [],
   "source": [
    "PSNR_average = sum(PSNR) / len(PSNR)\n",
    "PSNR_variance = np.var(PSNR)\n",
    "SSIM_average = sum(SSIM) / len(SSIM)\n",
    "SSIM_variance = np.var(SSIM)\n",
    "print(f\"PSNR平均值是:{PSNR_average:.4f}, PSNR方差是:{PSNR_variance:.4f}\")\n",
    "print(f\"SSIM平均值是:{SSIM_average:.4f}, SSIM方差是:{SSIM_variance:.4f}\")"
   ]
  },
  {
   "cell_type": "markdown",
   "metadata": {},
   "source": [
    "## Offset"
   ]
  },
  {
   "cell_type": "code",
   "execution_count": 23,
   "metadata": {},
   "outputs": [],
   "source": [
    "batch = next(itertools.islice(test_loader, 3, None))\n",
    "x_und, und_mask, image_gt = batch\n",
    "device = torch.device(\"cuda:2\" if torch.cuda.is_available() else \"cpu\")\n",
    "x_und = x_und.to(device)\n",
    "und_mask = und_mask.to(device)\n",
    "im_recon = net(x_und, und_mask)\n",
    "im_recon = pseudo2real(im_recon).detach().cpu().numpy()\n",
    "image_gt = pseudo2real(image_gt).detach().cpu().numpy()"
   ]
  },
  {
   "cell_type": "code",
   "execution_count": null,
   "metadata": {},
   "outputs": [],
   "source": [
    "id = 1\n",
    "imsshow(image_gt[id] - im_recon[id], num_col=5, is_colorbar=True)"
   ]
  }
 ],
 "metadata": {
  "kernelspec": {
   "display_name": "Python 3 (ipykernel)",
   "language": "python",
   "name": "python3"
  },
  "language_info": {
   "codemirror_mode": {
    "name": "ipython",
    "version": 3
   },
   "file_extension": ".py",
   "mimetype": "text/x-python",
   "name": "python",
   "nbconvert_exporter": "python",
   "pygments_lexer": "ipython3",
   "version": "3.8.16"
  }
 },
 "nbformat": 4,
 "nbformat_minor": 2
}
